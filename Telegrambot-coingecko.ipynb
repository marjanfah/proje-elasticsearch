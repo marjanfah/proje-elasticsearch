{
 "cells": [
  {
   "cell_type": "code",
   "execution_count": 3,
   "metadata": {},
   "outputs": [],
   "source": [
    "import requests"
   ]
  },
  {
   "cell_type": "code",
   "execution_count": 5,
   "metadata": {},
   "outputs": [
    {
     "name": "stdout",
     "output_type": "stream",
     "text": [
      "Bitcoin price in USD: 30197\n",
      "Ethereum price in USD: 1909.42\n",
      "Ripple price in USD: 0.833043\n",
      "Cardano price in USD: 0.329232\n",
      "Dogecoin price in USD: 0.070791\n",
      "Binance Coin price in USD: 243.0\n"
     ]
    }
   ],
   "source": [
    "def get_crypto_prices():\n",
    "    url = \"https://api.coingecko.com/api/v3/simple/price?ids=bitcoin,ethereum,ripple,cardano,dogecoin,binancecoin&vs_currencies=usd\"\n",
    "    response = requests.get(url)\n",
    "    data = response.json()\n",
    "    bitcoin_price = data['bitcoin']['usd']\n",
    "    ethereum_price = data['ethereum']['usd']\n",
    "    ripple_price = data['ripple']['usd']\n",
    "    cardano_price = data['cardano']['usd']\n",
    "    dogecoin_price = data['dogecoin']['usd']\n",
    "    bnb_price = data['binancecoin']['usd']\n",
    "    return bitcoin_price, ethereum_price, ripple_price, cardano_price, dogecoin_price, bnb_price\n",
    "\n",
    "bitcoin_price, ethereum_price, ripple_price, cardano_price, dogecoin_price, bnb_price = get_crypto_prices()\n",
    "print(\"Bitcoin price in USD:\", bitcoin_price)\n",
    "print(\"Ethereum price in USD:\", ethereum_price)\n",
    "print(\"Ripple price in USD:\", ripple_price)\n",
    "print(\"Cardano price in USD:\", cardano_price)\n",
    "print(\"Dogecoin price in USD:\", dogecoin_price)\n",
    "print(\"Binance Coin price in USD:\", bnb_price)"
   ]
  }
 ],
 "metadata": {
  "kernelspec": {
   "display_name": "Python 3",
   "language": "python",
   "name": "python3"
  },
  "language_info": {
   "codemirror_mode": {
    "name": "ipython",
    "version": 3
   },
   "file_extension": ".py",
   "mimetype": "text/x-python",
   "name": "python",
   "nbconvert_exporter": "python",
   "pygments_lexer": "ipython3",
   "version": "3.9.0"
  },
  "orig_nbformat": 4
 },
 "nbformat": 4,
 "nbformat_minor": 2
}
